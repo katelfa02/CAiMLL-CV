{
 "cells": [
  {
   "cell_type": "code",
   "execution_count": 1,
   "id": "4dd2c5d9",
   "metadata": {},
   "outputs": [],
   "source": [
    "# extract_frames function takes in given video and saves \n",
    "# all the frames as grayscale jpegs in new folder spec to vid,"
   ]
  },
  {
   "cell_type": "code",
   "execution_count": 2,
   "id": "39c45a18",
   "metadata": {},
   "outputs": [],
   "source": [
    "import cv2 as cv\n",
    "import os"
   ]
  },
  {
   "cell_type": "code",
   "execution_count": 3,
   "id": "198a6c42",
   "metadata": {},
   "outputs": [],
   "source": [
    "def extract_frames(video_path, parent_output_folder):\n",
    "\n",
    "    #create output folder if it doesn't already exist\n",
    "    \n",
    "    output_folder_name = os.path.splitext(os.path.basename(video_path))[0] + \"-frames\"  #spec vid frames \"bot-turn-frames\"\n",
    "    output_folder = os.path.join(parent_output_folder, \"grayscale\", output_folder_name)    #save under frames\n",
    "    \n",
    "    if not os.path.exists(output_folder):\n",
    "        print(f\"Output folder created: {output_folder}\")  # debug print statement for folder creation\n",
    "        os.makedirs(output_folder)\n",
    "    else:\n",
    "        print(f\"Using existing output folder: {output_folder}\")  # statement for using existing folder\n",
    "\n",
    "    \n",
    "    cap = cv.VideoCapture(video_path)    #open the video file    \n",
    "    frame_count = 0    #initialize frame count\n",
    "\n",
    "    \n",
    "    #read until video is completed\n",
    "    while cap.isOpened():\n",
    "        ret, frame = cap.read()     #capture frame-by-frame\n",
    "        \n",
    "        if ret:\n",
    "            # Save frame as JPEG image\n",
    "            gray_frame = cv.cvtColor(frame, cv.COLOR_BGR2GRAY)    #convert frame to grayscale\n",
    "            frame_path = os.path.join(output_folder, f\"frame_{frame_count:04d}.jpg\")\n",
    "            cv.imwrite(frame_path, gray_frame)\n",
    "            \n",
    "            # Increment frame count\n",
    "            frame_count += 1    \n",
    "        else:\n",
    "            break\n",
    "            \n",
    "    \n",
    "    cap.release() #release video capture object\n",
    "    cv.destroyAllWindows() #close all opencv windows"
   ]
  },
  {
   "cell_type": "code",
   "execution_count": 4,
   "id": "f00e3b31",
   "metadata": {},
   "outputs": [
    {
     "name": "stdout",
     "output_type": "stream",
     "text": [
      "Output folder created: frames\\grayscale\\bot-turn-frames\n"
     ]
    }
   ],
   "source": [
    "video_path = \"vids/bot-turn.mp4\" #path to input video file\n",
    "parent_output_folder = \"frames\"  #ehhh test\n",
    "extract_frames(video_path, parent_output_folder)"
   ]
  },
  {
   "cell_type": "code",
   "execution_count": null,
   "id": "2b4668b2",
   "metadata": {},
   "outputs": [],
   "source": []
  }
 ],
 "metadata": {
  "kernelspec": {
   "display_name": "Python 3 (ipykernel)",
   "language": "python",
   "name": "python3"
  },
  "language_info": {
   "codemirror_mode": {
    "name": "ipython",
    "version": 3
   },
   "file_extension": ".py",
   "mimetype": "text/x-python",
   "name": "python",
   "nbconvert_exporter": "python",
   "pygments_lexer": "ipython3",
   "version": "3.9.13"
  }
 },
 "nbformat": 4,
 "nbformat_minor": 5
}
